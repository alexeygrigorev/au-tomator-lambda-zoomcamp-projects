{
 "cells": [
  {
   "cell_type": "code",
   "execution_count": 1,
   "id": "dc165159",
   "metadata": {},
   "outputs": [],
   "source": [
    "%load_ext autoreload\n",
    "%autoreload 2"
   ]
  },
  {
   "cell_type": "code",
   "execution_count": 2,
   "id": "0874e29e",
   "metadata": {},
   "outputs": [],
   "source": [
    "import sys\n",
    "sys.path.append('./src/')"
   ]
  },
  {
   "cell_type": "code",
   "execution_count": 3,
   "id": "e2f802fd",
   "metadata": {},
   "outputs": [],
   "source": [
    "import requests\n",
    "import time\n",
    "import json"
   ]
  },
  {
   "cell_type": "code",
   "execution_count": 4,
   "id": "dd6a7596",
   "metadata": {},
   "outputs": [],
   "source": [
    "import repositories\n",
    "import config\n",
    "import repo_queue\n",
    "import airtable"
   ]
  },
  {
   "cell_type": "code",
   "execution_count": 67,
   "id": "40bea073",
   "metadata": {},
   "outputs": [],
   "source": [
    "import boto3"
   ]
  },
  {
   "cell_type": "code",
   "execution_count": null,
   "id": "b8c43b72",
   "metadata": {},
   "outputs": [],
   "source": []
  },
  {
   "cell_type": "code",
   "execution_count": null,
   "id": "6ef01b6a",
   "metadata": {},
   "outputs": [],
   "source": [
    "for i in range(125):\n",
    "    repo = repositories.create_private_unassigned_repo()"
   ]
  },
  {
   "cell_type": "code",
   "execution_count": 27,
   "id": "b84d3d3a",
   "metadata": {},
   "outputs": [],
   "source": []
  },
  {
   "cell_type": "code",
   "execution_count": 68,
   "id": "46176de4",
   "metadata": {},
   "outputs": [],
   "source": [
    "sqs = boto3.client('sqs')\n",
    "queue_url = config.queue_url"
   ]
  },
  {
   "cell_type": "code",
   "execution_count": 120,
   "id": "6b34442b",
   "metadata": {},
   "outputs": [
    {
     "name": "stdout",
     "output_type": "stream",
     "text": [
      "pulled https://github.com/DTC-Zoomcamp-Projects/mlzoomcamp-2022-01-cranky-goldstine from zoomcamp-projects\n"
     ]
    }
   ],
   "source": [
    "repository_message = repo_queue.poll_available_repo_from_queue()"
   ]
  },
  {
   "cell_type": "code",
   "execution_count": 93,
   "id": "94b90a37",
   "metadata": {},
   "outputs": [
    {
     "data": {
      "text/plain": [
       "{'airtable_record': {'id': 'recgEh9hyIDmvt3uN',\n",
       "  'createdTime': '2022-09-11T09:52:28.000Z',\n",
       "  'fields': {'Project ID': 'mlzoomcamp-2022-01-cranky-goldstine',\n",
       "   'Project URL': 'https://github.com/DTC-Zoomcamp-Projects/mlzoomcamp-2022-01-cranky-goldstine',\n",
       "   'Status': 'CREATED',\n",
       "   'Course': 'ML Zoomcamp',\n",
       "   'Year': '2022',\n",
       "   'Project': 'ML Zoomcamp'}},\n",
       " 'sqs_receipt_handle': 'AQEBs/6/PSNtw3oBFyy12TiXjmTNbaOn807MMlkfmGoWJV6FMW3PgeqeayT2J1BsmQe7U6PZwBjd2DR1jpDN+iSlr0utXyNpLwn2VJDe+0vAbH5hK5GEmUWi+8S7ezLznaYzTrNQ9xjSfiDkfX3/Cu7LVCcZYjxvKBBwfF6cab+1XkixrnbisudA5GBPKv1j9HkMbLTdLfGefZWj7Fj4JgiQQ8EJ2XnZvsRadNiNbWcgm8HE1kQiqjP70KtreMTlGrnBLgQDIkKC85Gd76/eW6eSqjL1MFeBiFgOhQbxA1Crxeh2HiFxQ36JYtqhhRnFEMQq/CJjouz/Jn0A1IvqmI+WnZu3oYvThjGlY+lWX5GrljZSv9eh2XQ2TRzhIDaCpvf/6FBllwe9PCrLEiKsOLaXug==',\n",
       " 'repository': {'name': 'mlzoomcamp-2022-01-cranky-goldstine',\n",
       "  'url': 'https://github.com/DTC-Zoomcamp-Projects/mlzoomcamp-2022-01-cranky-goldstine'}}"
      ]
     },
     "execution_count": 93,
     "metadata": {},
     "output_type": "execute_result"
    }
   ],
   "source": [
    "repository_message"
   ]
  },
  {
   "cell_type": "code",
   "execution_count": 94,
   "id": "55f00dc4",
   "metadata": {},
   "outputs": [],
   "source": [
    "student = {\n",
    "    'email': 'alexey@datatalks.club',\n",
    "    'github': 'alexeygrigorev'\n",
    "}"
   ]
  },
  {
   "cell_type": "markdown",
   "id": "64a36623",
   "metadata": {},
   "source": [
    "invite_link = repositories.add_collaborator(\n",
    "    repo_name='mlzoomcamp-2022-01-cranky-goldstine',\n",
    "    collaborator='alexeygrigorev',\n",
    "    permission='admin'\n",
    ")"
   ]
  },
  {
   "cell_type": "code",
   "execution_count": 112,
   "id": "7b8e0487",
   "metadata": {},
   "outputs": [],
   "source": [
    "org = config.github_org\n",
    "repo_name = 'mlzoomcamp-2022-01-cranky-goldstine'\n",
    "collaborator = 'alexeygrigorev'\n",
    "add_collaborator_url = f'https://api.github.com/repos/{org}/{repo_name}/collaborators/{collaborator}'\n",
    "\n",
    "add_collaborator_request = {\n",
    "    \"permission\": \"admin\"\n",
    "}\n",
    "\n",
    "add_collaborator_response = requests.put(\n",
    "    add_collaborator_url,\n",
    "    headers=repositories.github_headers,\n",
    "    json=add_collaborator_request\n",
    ")"
   ]
  },
  {
   "cell_type": "code",
   "execution_count": 116,
   "id": "caf2bef7",
   "metadata": {},
   "outputs": [
    {
     "data": {
      "text/plain": [
       "204"
      ]
     },
     "execution_count": 116,
     "metadata": {},
     "output_type": "execute_result"
    }
   ],
   "source": [
    "add_collaborator_response.status_code"
   ]
  },
  {
   "cell_type": "code",
   "execution_count": 119,
   "id": "f05ac8b0",
   "metadata": {
    "scrolled": true
   },
   "outputs": [
    {
     "name": "stdout",
     "output_type": "stream",
     "text": [
      "no repositories available in zoomcamp-projects\n",
      "We don't have an available repository, creating a new one\n",
      "repository_url: https://github.com/DTC-Zoomcamp-Projects/mlzoomcamp-2022-01-competent-lichterman, sleeping for 5 seconds\n",
      "main sha: 45bd748cd14c9051834d0b844c683fd4ecbb71f9\n",
      "created branch https://api.github.com/repos/DTC-Zoomcamp-Projects/mlzoomcamp-2022-01-competent-lichterman/git/refs/heads/review_1, sleeping for 5 seconds...\n",
      "created branch https://api.github.com/repos/DTC-Zoomcamp-Projects/mlzoomcamp-2022-01-competent-lichterman/git/refs/heads/review_2, sleeping for 5 seconds...\n",
      "created branch https://api.github.com/repos/DTC-Zoomcamp-Projects/mlzoomcamp-2022-01-competent-lichterman/git/refs/heads/review_3, sleeping for 5 seconds...\n",
      "alexeygrigorev is already a collaborator for mlzoomcamp-2022-01-competent-lichterman\n"
     ]
    }
   ],
   "source": [
    "code, resp = repositories.assign_repository(\n",
    "    github_name='alexeygrigorev',\n",
    "    email='alexey@datatalks.club',\n",
    ")"
   ]
  },
  {
   "cell_type": "code",
   "execution_count": null,
   "id": "d7f324ef",
   "metadata": {},
   "outputs": [],
   "source": [
    "username = 'SVizor42'\n",
    "\n",
    "url = f\"https://api.github.com/users/{username}\""
   ]
  },
  {
   "cell_type": "code",
   "execution_count": null,
   "id": "8806fca9",
   "metadata": {},
   "outputs": [],
   "source": []
  },
  {
   "cell_type": "code",
   "execution_count": 10,
   "id": "f301fc43",
   "metadata": {},
   "outputs": [
    {
     "data": {
      "text/plain": [
       "'ML Zoomcamp'"
      ]
     },
     "execution_count": 10,
     "metadata": {},
     "output_type": "execute_result"
    }
   ],
   "source": [
    "config.course_name"
   ]
  },
  {
   "cell_type": "code",
   "execution_count": 60,
   "id": "05c1f8ea",
   "metadata": {},
   "outputs": [],
   "source": [
    "records = airtable.get_all_records()\n",
    "records = list(records)"
   ]
  },
  {
   "cell_type": "code",
   "execution_count": 64,
   "id": "473c87a5",
   "metadata": {},
   "outputs": [
    {
     "data": {
      "text/plain": [
       "{'id': 'rec5gu9Xe0S1ROLhm',\n",
       " 'createdTime': '2022-09-11T08:28:56.000Z',\n",
       " 'fields': {'Project': 'Midterm project',\n",
       "  'Status': 'CREATED',\n",
       "  'Project URL': 'https://github.com/DTC-Zoomcamp-Projects/mlzoomcamp-2022-01-upbeat-jepsen',\n",
       "  'Project ID': 'mlzoomcamp-2022-01-upbeat-jepsen',\n",
       "  'Year': '2022',\n",
       "  'Course': 'ML Zoomcamp'}}"
      ]
     },
     "execution_count": 64,
     "metadata": {},
     "output_type": "execute_result"
    }
   ],
   "source": [
    "records[10]"
   ]
  },
  {
   "cell_type": "code",
   "execution_count": 69,
   "id": "655ff31b",
   "metadata": {},
   "outputs": [],
   "source": [
    "for record in records[:10]:\n",
    "    repo_queue.add_repo(record)"
   ]
  },
  {
   "cell_type": "code",
   "execution_count": null,
   "id": "c644ce6e",
   "metadata": {},
   "outputs": [],
   "source": []
  },
  {
   "cell_type": "code",
   "execution_count": null,
   "id": "2d456970",
   "metadata": {},
   "outputs": [],
   "source": [
    "pull_request_url = f'https://api.github.com/repos/{org}/{final_repo_name}/pulls'\n",
    "\n",
    "for i in range(1, 4):\n",
    "    target_branch = f'review_{i}'\n",
    "\n",
    "    request = {\n",
    "        \"title\": f\"Project review {i} by NAME #{i}\",\n",
    "        \"body\": \"Here we will put a template\",\n",
    "        \"head\": \"main\",\n",
    "        \"base\": target_branch\n",
    "    }\n",
    "    \n",
    "    pull_request_response = requests.post(pull_request_url, json=request, headers=github_headers)\n",
    "    pull_request_response.raise_for_status()\n",
    "   \n",
    "    json_response = pull_request_response.json()\n",
    "    html_url = json_response['html_url']\n",
    "    print(f'PR url {html_url}')\n",
    "    \n",
    "    time.sleep(5)"
   ]
  },
  {
   "cell_type": "code",
   "execution_count": null,
   "id": "6361abc9",
   "metadata": {},
   "outputs": [],
   "source": [
    "json_response = pull_request_response.json()"
   ]
  },
  {
   "cell_type": "code",
   "execution_count": null,
   "id": "2dd87fa8",
   "metadata": {},
   "outputs": [],
   "source": []
  },
  {
   "cell_type": "code",
   "execution_count": null,
   "id": "a9e42dae",
   "metadata": {},
   "outputs": [],
   "source": []
  }
 ],
 "metadata": {
  "kernelspec": {
   "display_name": "Python 3 (ipykernel)",
   "language": "python",
   "name": "python3"
  },
  "language_info": {
   "codemirror_mode": {
    "name": "ipython",
    "version": 3
   },
   "file_extension": ".py",
   "mimetype": "text/x-python",
   "name": "python",
   "nbconvert_exporter": "python",
   "pygments_lexer": "ipython3",
   "version": "3.9.7"
  },
  "vscode": {
   "interpreter": {
    "hash": "c347c8f9a7ef94e4c9e03b4513be7835ed18f45b99a2a817fb579f408b867b16"
   }
  }
 },
 "nbformat": 4,
 "nbformat_minor": 5
}
